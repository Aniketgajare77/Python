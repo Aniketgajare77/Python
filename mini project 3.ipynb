{
 "cells": [
  {
   "cell_type": "code",
   "execution_count": null,
   "id": "04c62cb0",
   "metadata": {},
   "outputs": [
    {
     "name": "stdout",
     "output_type": "stream",
     "text": [
      "i am guessing number between 1 to 10\n",
      "pick your number 2\n",
      "******CONGRADULATION*********\n",
      "****YOU WIN******\n",
      "you guess write number\n",
      "pick your number 3\n",
      "SORRY\n",
      "you guess a wrong number\n",
      "better luck next time\n",
      "i am guessing number between 1 to 10\n",
      "pick your number 4\n",
      "SORRY\n",
      "you guess a wrong number\n",
      "better luck next time\n",
      "i am guessing number between 1 to 10\n",
      "pick your number 5\n",
      "SORRY\n",
      "you guess a wrong number\n",
      "better luck next time\n",
      "i am guessing number between 1 to 10\n",
      "pick your number 6\n",
      "SORRY\n",
      "you guess a wrong number\n",
      "better luck next time\n",
      "i am guessing number between 1 to 10\n",
      "pick your number 7\n",
      "SORRY\n",
      "you guess a wrong number\n",
      "better luck next time\n",
      "i am guessing number between 1 to 10\n",
      "pick your number 11\n",
      "SORRY\n",
      "you guess a wrong number\n",
      "better luck next time\n",
      "i am guessing number between 1 to 10\n"
     ]
    }
   ],
   "source": [
    "import random\n",
    "\n",
    "while True:\n",
    "    \n",
    "    attempt=5\n",
    "    number=random.randint(1,10)\n",
    "    print('i am guessing number between 1 to 10')\n",
    "    while attempt>0:\n",
    "        a=int(input('pick your number '))\n",
    "        attempt-=1\n",
    "        if a==number:\n",
    "            print('******CONGRADULATION*********')\n",
    "            print('****YOU WIN******')\n",
    "            print('you guess write number')\n",
    "        else:\n",
    "            print('SORRY')\n",
    "            print('you guess a wrong number')\n",
    "            print('better luck next time')\n",
    "            break\n",
    "        \n",
    "    "
   ]
  },
  {
   "cell_type": "code",
   "execution_count": null,
   "id": "efb04437",
   "metadata": {},
   "outputs": [],
   "source": []
  },
  {
   "cell_type": "code",
   "execution_count": null,
   "id": "2f1d3f0a",
   "metadata": {},
   "outputs": [],
   "source": []
  }
 ],
 "metadata": {
  "kernelspec": {
   "display_name": "Python 3 (ipykernel)",
   "language": "python",
   "name": "python3"
  },
  "language_info": {
   "codemirror_mode": {
    "name": "ipython",
    "version": 3
   },
   "file_extension": ".py",
   "mimetype": "text/x-python",
   "name": "python",
   "nbconvert_exporter": "python",
   "pygments_lexer": "ipython3",
   "version": "3.9.13"
  }
 },
 "nbformat": 4,
 "nbformat_minor": 5
}
