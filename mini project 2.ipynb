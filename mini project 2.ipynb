{
 "cells": [
  {
   "cell_type": "code",
   "execution_count": 2,
   "id": "1ac2821a",
   "metadata": {},
   "outputs": [
    {
     "name": "stdout",
     "output_type": "stream",
     "text": [
      "***************WELCOME**************\n",
      "**Candy Jar**\n",
      "Available candies are 500\n",
      "**************************************\n",
      "please enter number of candy you want\n",
      "enter a candy customer want600\n",
      "---------------------------------------------------\n",
      "exceeding available candy count\n",
      "**************************************\n",
      "please enter number of candy you want\n",
      "enter a candy customer want500\n",
      "-----------------------\n",
      "Enjoy you candy sir,vist again\n",
      "************************************\n",
      "Availble candy are 0\n",
      "**************************************\n",
      "please enter number of candy you want\n",
      "enter a candy customer want3\n",
      "sorry,currently candies are not available\n",
      "----------------------------------------------\n"
     ]
    }
   ],
   "source": [
    "print('***************WELCOME**************')\n",
    "print('**Candy Jar**')\n",
    "candy=500\n",
    "print('Available candies are',candy)\n",
    "while(True):\n",
    "    print('**************************************')\n",
    "    print('please enter number of candy you want')\n",
    "    n=int(input('enter a candy customer want'))\n",
    "    if n<=candy:\n",
    "        if n>0:\n",
    "            \n",
    "            candy=candy-n\n",
    "            print('-----------------------')\n",
    "            print('Enjoy you candy sir,vist again')\n",
    "            print('************************************')\n",
    "            print('Availble candy are',candy)\n",
    "        else:\n",
    "            print('please enter value greater than o')\n",
    "        \n",
    "    elif candy==0:\n",
    "        print('sorry,currently candies are not available')\n",
    "        print('----------------------------------------------')\n",
    "        break\n",
    "    elif n>candy:\n",
    "        print('---------------------------------------------------')\n",
    "        print('exceeding available candy count')\n",
    "    else:\n",
    "        print('***********************************')\n",
    "        print('currently candies are not available')\n",
    "    \n"
   ]
  },
  {
   "cell_type": "code",
   "execution_count": null,
   "id": "5256dd37",
   "metadata": {},
   "outputs": [],
   "source": []
  }
 ],
 "metadata": {
  "kernelspec": {
   "display_name": "Python 3 (ipykernel)",
   "language": "python",
   "name": "python3"
  },
  "language_info": {
   "codemirror_mode": {
    "name": "ipython",
    "version": 3
   },
   "file_extension": ".py",
   "mimetype": "text/x-python",
   "name": "python",
   "nbconvert_exporter": "python",
   "pygments_lexer": "ipython3",
   "version": "3.9.13"
  }
 },
 "nbformat": 4,
 "nbformat_minor": 5
}
